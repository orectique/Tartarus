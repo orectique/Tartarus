{
 "cells": [
  {
   "cell_type": "code",
   "execution_count": 1,
   "id": "85517c51",
   "metadata": {},
   "outputs": [
    {
     "ename": "UnsupportedPythonError",
     "evalue": "It seems your Julia and PyJulia setup are not supported.\n\nJulia executable:\n    julia\nPython interpreter and libpython used by PyCall.jl:\n    C:\\Users\\orect\\.julia\\conda\\3\\python.exe\n    C:\\Users\\orect\\.julia\\conda\\3\\python310.dll\nPython interpreter used to import PyJulia and its libpython.\n    C:\\Users\\orect\\miniconda3\\envs\\julia\\python.exe\n    C:\\Users\\orect\\miniconda3\\envs\\julia\\python310.dll\n\nIn Julia >= 0.7, above two paths to `libpython` have to match exactly\nin order for PyJulia to work out-of-the-box.  To configure PyCall.jl to use\nPython interpreter \"C:\\Users\\orect\\miniconda3\\envs\\julia\\python.exe\",\nrun the following code in the Python REPL:\n\n    >>> import julia\n    >>> julia.install()\n\nFor more information, see:\n\n    https://pyjulia.readthedocs.io/en/latest/troubleshooting.html\n",
     "output_type": "error",
     "traceback": [
      "\u001b[1;31m---------------------------------------------------------------------------\u001b[0m",
      "\u001b[1;31mUnsupportedPythonError\u001b[0m                    Traceback (most recent call last)",
      "Cell \u001b[1;32mIn[1], line 1\u001b[0m\n\u001b[1;32m----> 1\u001b[0m \u001b[38;5;28;01mfrom\u001b[39;00m \u001b[38;5;21;01mjulia\u001b[39;00m \u001b[38;5;28;01mimport\u001b[39;00m Pkg\n",
      "File \u001b[1;32m<frozen importlib._bootstrap>:1027\u001b[0m, in \u001b[0;36m_find_and_load\u001b[1;34m(name, import_)\u001b[0m\n",
      "File \u001b[1;32m<frozen importlib._bootstrap>:1006\u001b[0m, in \u001b[0;36m_find_and_load_unlocked\u001b[1;34m(name, import_)\u001b[0m\n",
      "File \u001b[1;32m<frozen importlib._bootstrap>:672\u001b[0m, in \u001b[0;36m_load_unlocked\u001b[1;34m(spec)\u001b[0m\n",
      "File \u001b[1;32m<frozen importlib._bootstrap>:632\u001b[0m, in \u001b[0;36m_load_backward_compatible\u001b[1;34m(spec)\u001b[0m\n",
      "File \u001b[1;32m~\\miniconda3\\envs\\julia\\lib\\site-packages\\julia\\core.py:248\u001b[0m, in \u001b[0;36mJuliaModuleLoader.load_module\u001b[1;34m(self, fullname)\u001b[0m\n\u001b[0;32m    245\u001b[0m \u001b[38;5;28;01mif\u001b[39;00m juliapath \u001b[38;5;241m==\u001b[39m \u001b[38;5;124m'\u001b[39m\u001b[38;5;124mMain\u001b[39m\u001b[38;5;124m'\u001b[39m:\n\u001b[0;32m    246\u001b[0m     \u001b[38;5;28;01mreturn\u001b[39;00m sys\u001b[38;5;241m.\u001b[39mmodules\u001b[38;5;241m.\u001b[39msetdefault(fullname,\n\u001b[0;32m    247\u001b[0m                                   JuliaMainModule(\u001b[38;5;28mself\u001b[39m, fullname))\n\u001b[1;32m--> 248\u001b[0m \u001b[38;5;28;01melif\u001b[39;00m \u001b[38;5;28;43mself\u001b[39;49m\u001b[38;5;241;43m.\u001b[39;49m\u001b[43mjulia\u001b[49m\u001b[38;5;241m.\u001b[39misafunction(juliapath):\n\u001b[0;32m    249\u001b[0m     \u001b[38;5;28;01mreturn\u001b[39;00m \u001b[38;5;28mself\u001b[39m\u001b[38;5;241m.\u001b[39mjulia\u001b[38;5;241m.\u001b[39meval(juliapath)\n\u001b[0;32m    251\u001b[0m \u001b[38;5;28;01mtry\u001b[39;00m:\n",
      "File \u001b[1;32m~\\miniconda3\\envs\\julia\\lib\\site-packages\\julia\\core.py:239\u001b[0m, in \u001b[0;36mJuliaModuleLoader.julia\u001b[1;34m(self)\u001b[0m\n\u001b[0;32m    237\u001b[0m \u001b[38;5;129m@property\u001b[39m\n\u001b[0;32m    238\u001b[0m \u001b[38;5;28;01mdef\u001b[39;00m \u001b[38;5;21mjulia\u001b[39m(\u001b[38;5;28mself\u001b[39m):\n\u001b[1;32m--> 239\u001b[0m     \u001b[38;5;28mself\u001b[39m\u001b[38;5;241m.\u001b[39m\u001b[38;5;18m__class__\u001b[39m\u001b[38;5;241m.\u001b[39mjulia \u001b[38;5;241m=\u001b[39m julia \u001b[38;5;241m=\u001b[39m \u001b[43mJulia\u001b[49m\u001b[43m(\u001b[49m\u001b[43m)\u001b[49m\n\u001b[0;32m    240\u001b[0m     \u001b[38;5;28;01mreturn\u001b[39;00m julia\n",
      "File \u001b[1;32m~\\miniconda3\\envs\\julia\\lib\\site-packages\\julia\\core.py:489\u001b[0m, in \u001b[0;36mJulia.__init__\u001b[1;34m(self, init_julia, jl_init_path, runtime, jl_runtime_path, debug, **julia_options)\u001b[0m\n\u001b[0;32m    483\u001b[0m logger\u001b[38;5;241m.\u001b[39mdebug(\u001b[38;5;124m\"\u001b[39m\u001b[38;5;124mcompiled_modules = \u001b[39m\u001b[38;5;132;01m%r\u001b[39;00m\u001b[38;5;124m\"\u001b[39m, options\u001b[38;5;241m.\u001b[39mcompiled_modules)\n\u001b[0;32m    484\u001b[0m \u001b[38;5;28;01mif\u001b[39;00m \u001b[38;5;129;01mnot\u001b[39;00m (\n\u001b[0;32m    485\u001b[0m     options\u001b[38;5;241m.\u001b[39mcompiled_modules \u001b[38;5;241m==\u001b[39m \u001b[38;5;124m\"\u001b[39m\u001b[38;5;124mno\u001b[39m\u001b[38;5;124m\"\u001b[39m\n\u001b[0;32m    486\u001b[0m     \u001b[38;5;129;01mor\u001b[39;00m is_compatible_python\n\u001b[0;32m    487\u001b[0m     \u001b[38;5;129;01mor\u001b[39;00m use_custom_sysimage\n\u001b[0;32m    488\u001b[0m ):\n\u001b[1;32m--> 489\u001b[0m     \u001b[38;5;28;01mraise\u001b[39;00m UnsupportedPythonError(jlinfo)\n\u001b[0;32m    491\u001b[0m \u001b[38;5;28mself\u001b[39m\u001b[38;5;241m.\u001b[39mapi\u001b[38;5;241m.\u001b[39minit_julia(options)\n\u001b[0;32m    493\u001b[0m \u001b[38;5;66;03m# We are assuming that `jl_is_initialized()` was true only\u001b[39;00m\n\u001b[0;32m    494\u001b[0m \u001b[38;5;66;03m# if this process was a Julia process (hence PyCall had\u001b[39;00m\n\u001b[0;32m    495\u001b[0m \u001b[38;5;66;03m# already called `atexit(Py_Finalize)`).  This is not true\u001b[39;00m\n\u001b[1;32m   (...)\u001b[0m\n\u001b[0;32m    500\u001b[0m \u001b[38;5;66;03m# not register the atexit hook), let's play on the safer\u001b[39;00m\n\u001b[0;32m    501\u001b[0m \u001b[38;5;66;03m# side for now.\u001b[39;00m\n",
      "\u001b[1;31mUnsupportedPythonError\u001b[0m: It seems your Julia and PyJulia setup are not supported.\n\nJulia executable:\n    julia\nPython interpreter and libpython used by PyCall.jl:\n    C:\\Users\\orect\\.julia\\conda\\3\\python.exe\n    C:\\Users\\orect\\.julia\\conda\\3\\python310.dll\nPython interpreter used to import PyJulia and its libpython.\n    C:\\Users\\orect\\miniconda3\\envs\\julia\\python.exe\n    C:\\Users\\orect\\miniconda3\\envs\\julia\\python310.dll\n\nIn Julia >= 0.7, above two paths to `libpython` have to match exactly\nin order for PyJulia to work out-of-the-box.  To configure PyCall.jl to use\nPython interpreter \"C:\\Users\\orect\\miniconda3\\envs\\julia\\python.exe\",\nrun the following code in the Python REPL:\n\n    >>> import julia\n    >>> julia.install()\n\nFor more information, see:\n\n    https://pyjulia.readthedocs.io/en/latest/troubleshooting.html\n"
     ]
    }
   ],
   "source": [
    "from julia import Pkg"
   ]
  },
  {
   "cell_type": "code",
   "execution_count": null,
   "id": "2baea870",
   "metadata": {},
   "outputs": [],
   "source": []
  }
 ],
 "metadata": {
  "kernelspec": {
   "display_name": "Python 3 (ipykernel)",
   "language": "python",
   "name": "python3"
  },
  "language_info": {
   "codemirror_mode": {
    "name": "ipython",
    "version": 3
   },
   "file_extension": ".py",
   "mimetype": "text/x-python",
   "name": "python",
   "nbconvert_exporter": "python",
   "pygments_lexer": "ipython3",
   "version": "3.10.8"
  }
 },
 "nbformat": 4,
 "nbformat_minor": 5
}
