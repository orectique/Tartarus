{
 "cells": [
  {
   "cell_type": "code",
   "execution_count": 2,
   "id": "85517c51",
   "metadata": {},
   "outputs": [],
   "source": [
    "from julia import Pkg"
   ]
  },
  {
   "cell_type": "code",
   "execution_count": 3,
   "id": "2baea870",
   "metadata": {},
   "outputs": [],
   "source": [
    "Pkg.activate(\".\\\\Tartarus\")"
   ]
  },
  {
   "cell_type": "code",
   "execution_count": 4,
   "id": "1914faf2",
   "metadata": {},
   "outputs": [
    {
     "ename": "ImportError",
     "evalue": "Tartarus not found",
     "output_type": "error",
     "traceback": [
      "\u001b[1;31m---------------------------------------------------------------------------\u001b[0m",
      "\u001b[1;31mImportError\u001b[0m                               Traceback (most recent call last)",
      "Cell \u001b[1;32mIn[4], line 1\u001b[0m\n\u001b[1;32m----> 1\u001b[0m \u001b[38;5;28;01mfrom\u001b[39;00m \u001b[38;5;21;01mjulia\u001b[39;00m \u001b[38;5;28;01mimport\u001b[39;00m Tartarus\n",
      "File \u001b[1;32m~\\miniconda3\\envs\\sisyphus\\lib\\site-packages\\julia\\core.py:260\u001b[0m, in \u001b[0;36mJuliaModuleLoader.load_module\u001b[1;34m(self, fullname)\u001b[0m\n\u001b[0;32m    256\u001b[0m     \u001b[38;5;28;01mif\u001b[39;00m \u001b[38;5;28mself\u001b[39m\u001b[38;5;241m.\u001b[39mjulia\u001b[38;5;241m.\u001b[39misamodule(juliapath):\n\u001b[0;32m    257\u001b[0m         \u001b[38;5;28;01mreturn\u001b[39;00m sys\u001b[38;5;241m.\u001b[39mmodules\u001b[38;5;241m.\u001b[39msetdefault(fullname,\n\u001b[0;32m    258\u001b[0m                                       JuliaModule(\u001b[38;5;28mself\u001b[39m, fullname))\n\u001b[1;32m--> 260\u001b[0m \u001b[38;5;28;01mraise\u001b[39;00m \u001b[38;5;167;01mImportError\u001b[39;00m(\u001b[38;5;124m\"\u001b[39m\u001b[38;5;132;01m{}\u001b[39;00m\u001b[38;5;124m not found\u001b[39m\u001b[38;5;124m\"\u001b[39m\u001b[38;5;241m.\u001b[39mformat(juliapath))\n",
      "\u001b[1;31mImportError\u001b[0m: Tartarus not found"
     ]
    }
   ],
   "source": [
    "from julia import Tartarus"
   ]
  },
  {
   "cell_type": "code",
   "execution_count": null,
   "id": "26205c20",
   "metadata": {},
   "outputs": [],
   "source": [
    "T"
   ]
  }
 ],
 "metadata": {
  "@webio": {
   "lastCommId": null,
   "lastKernelId": null
  },
  "kernelspec": {
   "display_name": "Python 3 (ipykernel)",
   "language": "python",
   "name": "python3"
  },
  "language_info": {
   "codemirror_mode": {
    "name": "ipython",
    "version": 3
   },
   "file_extension": ".py",
   "mimetype": "text/x-python",
   "name": "python",
   "nbconvert_exporter": "python",
   "pygments_lexer": "ipython3",
   "version": "3.10.8"
  },
  "vscode": {
   "interpreter": {
    "hash": "0d317042571960b587ca04430f917381718f40105f3a96894ab273787bdfb72e"
   }
  }
 },
 "nbformat": 4,
 "nbformat_minor": 5
}
